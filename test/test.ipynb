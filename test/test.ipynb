{
 "cells": [
  {
   "cell_type": "code",
   "execution_count": 8,
   "metadata": {},
   "outputs": [],
   "source": [
    "import pandas as pd\n",
    "import numpy as np"
   ]
  },
  {
   "cell_type": "code",
   "execution_count": 9,
   "metadata": {},
   "outputs": [
    {
     "name": "stderr",
     "output_type": "stream",
     "text": [
      "C:\\Users\\user\\AppData\\Local\\Temp\\ipykernel_16292\\3268050869.py:40: SettingWithCopyWarning: \n",
      "A value is trying to be set on a copy of a slice from a DataFrame\n",
      "\n",
      "See the caveats in the documentation: https://pandas.pydata.org/pandas-docs/stable/user_guide/indexing.html#returning-a-view-versus-a-copy\n",
      "  df['duration'][df['duration'].loc[(df['duration'] == 0) & (df['type']=='Movie') & (df['plataform']==plataform)].index]=prom_movies[plataform] #Se guarda el\n",
      "C:\\Users\\user\\AppData\\Local\\Temp\\ipykernel_16292\\3268050869.py:41: SettingWithCopyWarning: \n",
      "A value is trying to be set on a copy of a slice from a DataFrame\n",
      "\n",
      "See the caveats in the documentation: https://pandas.pydata.org/pandas-docs/stable/user_guide/indexing.html#returning-a-view-versus-a-copy\n",
      "  df['duration'][df['duration'].loc[(df['duration'] == 0) & (df['type']=='TV Show') & (df['plataform']==plataform)].index]=prom_series[plataform]\n",
      "C:\\Users\\user\\AppData\\Local\\Temp\\ipykernel_16292\\3268050869.py:40: SettingWithCopyWarning: \n",
      "A value is trying to be set on a copy of a slice from a DataFrame\n",
      "\n",
      "See the caveats in the documentation: https://pandas.pydata.org/pandas-docs/stable/user_guide/indexing.html#returning-a-view-versus-a-copy\n",
      "  df['duration'][df['duration'].loc[(df['duration'] == 0) & (df['type']=='Movie') & (df['plataform']==plataform)].index]=prom_movies[plataform] #Se guarda el\n",
      "C:\\Users\\user\\AppData\\Local\\Temp\\ipykernel_16292\\3268050869.py:41: SettingWithCopyWarning: \n",
      "A value is trying to be set on a copy of a slice from a DataFrame\n",
      "\n",
      "See the caveats in the documentation: https://pandas.pydata.org/pandas-docs/stable/user_guide/indexing.html#returning-a-view-versus-a-copy\n",
      "  df['duration'][df['duration'].loc[(df['duration'] == 0) & (df['type']=='TV Show') & (df['plataform']==plataform)].index]=prom_series[plataform]\n",
      "C:\\Users\\user\\AppData\\Local\\Temp\\ipykernel_16292\\3268050869.py:40: SettingWithCopyWarning: \n",
      "A value is trying to be set on a copy of a slice from a DataFrame\n",
      "\n",
      "See the caveats in the documentation: https://pandas.pydata.org/pandas-docs/stable/user_guide/indexing.html#returning-a-view-versus-a-copy\n",
      "  df['duration'][df['duration'].loc[(df['duration'] == 0) & (df['type']=='Movie') & (df['plataform']==plataform)].index]=prom_movies[plataform] #Se guarda el\n",
      "C:\\Users\\user\\AppData\\Local\\Temp\\ipykernel_16292\\3268050869.py:41: SettingWithCopyWarning: \n",
      "A value is trying to be set on a copy of a slice from a DataFrame\n",
      "\n",
      "See the caveats in the documentation: https://pandas.pydata.org/pandas-docs/stable/user_guide/indexing.html#returning-a-view-versus-a-copy\n",
      "  df['duration'][df['duration'].loc[(df['duration'] == 0) & (df['type']=='TV Show') & (df['plataform']==plataform)].index]=prom_series[plataform]\n",
      "C:\\Users\\user\\AppData\\Local\\Temp\\ipykernel_16292\\3268050869.py:40: SettingWithCopyWarning: \n",
      "A value is trying to be set on a copy of a slice from a DataFrame\n",
      "\n",
      "See the caveats in the documentation: https://pandas.pydata.org/pandas-docs/stable/user_guide/indexing.html#returning-a-view-versus-a-copy\n",
      "  df['duration'][df['duration'].loc[(df['duration'] == 0) & (df['type']=='Movie') & (df['plataform']==plataform)].index]=prom_movies[plataform] #Se guarda el\n",
      "C:\\Users\\user\\AppData\\Local\\Temp\\ipykernel_16292\\3268050869.py:41: SettingWithCopyWarning: \n",
      "A value is trying to be set on a copy of a slice from a DataFrame\n",
      "\n",
      "See the caveats in the documentation: https://pandas.pydata.org/pandas-docs/stable/user_guide/indexing.html#returning-a-view-versus-a-copy\n",
      "  df['duration'][df['duration'].loc[(df['duration'] == 0) & (df['type']=='TV Show') & (df['plataform']==plataform)].index]=prom_series[plataform]\n",
      "C:\\Users\\user\\AppData\\Local\\Temp\\ipykernel_16292\\3268050869.py:44: SettingWithCopyWarning: \n",
      "A value is trying to be set on a copy of a slice from a DataFrame\n",
      "\n",
      "See the caveats in the documentation: https://pandas.pydata.org/pandas-docs/stable/user_guide/indexing.html#returning-a-view-versus-a-copy\n",
      "  df['type (min-seasons)'][df['type (min-seasons)'].loc[(df['type']=='TV Show')].index]='season'\n",
      "C:\\Users\\user\\AppData\\Local\\Temp\\ipykernel_16292\\3268050869.py:45: SettingWithCopyWarning: \n",
      "A value is trying to be set on a copy of a slice from a DataFrame\n",
      "\n",
      "See the caveats in the documentation: https://pandas.pydata.org/pandas-docs/stable/user_guide/indexing.html#returning-a-view-versus-a-copy\n",
      "  df['type (min-seasons)'][df['type (min-seasons)'].loc[(df['type']=='Movie')].index] = 'min'\n"
     ]
    }
   ],
   "source": [
    "#Importación de la data en los dataframes.\n",
    "df_amazon = pd.read_csv('./Datasets/amazon_prime_titles.csv')\n",
    "df_disney_plus = pd.read_csv('./Datasets/disney_plus_titles.csv')\n",
    "df_hulu = pd.read_csv('./Datasets/hulu_titles.csv')\n",
    "df_netflix = pd.read_json('./Datasets/netflix_titles.json')\n",
    "\n",
    "#Se agrega la columan \"plataforma\" a cada dataframe.\n",
    "dataframes = [df_amazon, df_disney_plus, df_hulu, df_netflix]\n",
    "plataformas = ['amazon', 'disney plus','hulu','netflix']\n",
    "plataformas_numero = ['0','1','2','3']\n",
    "for number, dataframe in enumerate(dataframes):\n",
    "    dataframe['plataform']=plataformas[number]  #Se agregan los datos de plataformas a la columna plataform.\n",
    "    dataframe['plataform_id']=plataformas_numero[number] #Se agrega una columna con id para la plataforma.\n",
    "\n",
    "#Creación del dataframe unificado\n",
    "df = pd.DataFrame() #Creación de un dataframe vacío donde irán unidos todos los dataframes de las películas.\n",
    "df = pd.concat([dataframe for dataframe in dataframes], ignore_index=True) #Se unen los dataFrames en uno solo.\n",
    "df['show_id']=df['show_id'] + df['plataform_id'] #Se genera un id subrogado con el show_id y plataform_id\n",
    "\n",
    "#Limpieza de las columnas duplicados y Columnas no necesarias\n",
    "df.drop_duplicates(inplace=True) #Se limpia el dataframe de posibles duplicados (Los duplicados se consideran si son filas iguales).\n",
    "df.drop(columns=['country', 'date_added','rating', 'description'], inplace=True) #Se eliminan columnas que no se utilizan\n",
    "\n",
    "#Cambio de la columna \"duration\"\n",
    "df_dur=df[\"duration\"].str.split(expand=True) #Se crea un dataframe con los datos de la columna \"duration\" separando el número de la unidad\n",
    "df_dur.rename(columns={0:\"duration\",1:\"type (min-seasons)\"},inplace=True) #Se renombran las columnas.\n",
    "df.drop(columns='duration', inplace=True) #Se elimina la columna 'duration' del dataframe original\n",
    "df['duration'] = df_dur[\"duration\"] #Se agrega la columna duration con el número\n",
    "df['type (min-seasons)'] = df_dur['type (min-seasons)'] #se agrega la columna type (min-Seasons)\n",
    "df['duration'].fillna(0, inplace=True)\n",
    "df.fillna('sin dato', inplace=True) #Se llenan los datos vacíos como: sin dato.\n",
    "df[\"duration\"]=df[\"duration\"].astype(\"int64\") #Se cambia el tipo de dato por int en la columna duration\n",
    "\n",
    "#Promedios de duración de películas y series por plataforma\n",
    "prom_movies = {}\n",
    "prom_series = {}\n",
    "for plataform in df['plataform'].unique():\n",
    "    prom_movies[plataform] = round(df[(df['duration'] !=0 ) & (df['type']=='Movie')&(df['plataform']==plataform)]['duration'].mean()) #Se halla la media de la duración de películas por plataforma\n",
    "    prom_series[plataform] = round(df[(df['duration'] !=0 ) & (df['type']=='TV Show') & (df['plataform']==plataform)]['duration'].mean()) #Se halla la media de la duración de series por plataforma\n",
    "    df['duration'][df['duration'].loc[(df['duration'] == 0) & (df['type']=='Movie') & (df['plataform']==plataform)].index]=prom_movies[plataform] #Se guarda el\n",
    "    df['duration'][df['duration'].loc[(df['duration'] == 0) & (df['type']=='TV Show') & (df['plataform']==plataform)].index]=prom_series[plataform]\n",
    "\n",
    "#Se cambian los valores \"sin dato\" de las unidades de tiempo (minutos o seasons) en la columna correspondiente\n",
    "df['type (min-seasons)'][df['type (min-seasons)'].loc[(df['type']=='TV Show')].index]='season'\n",
    "df['type (min-seasons)'][df['type (min-seasons)'].loc[(df['type']=='Movie')].index] = 'min'\n",
    "\n",
    "#Cambio de todos los textos a minusculas\n",
    "df['type']=df['type'].str.lower()\n",
    "df['title']=df['title'].str.lower()\n",
    "df['director']=df['director'].str.lower()\n",
    "df['listed_in']=df['listed_in'].str.lower()\n",
    "df['cast']=df['cast'].str.lower()\n",
    "\n",
    "#Se convierten los actores en listas dentro del dataframe\n",
    "df['cast_1'] = df[\"cast\"].str.split(\",\") #se separan por comas los actores dentro de un campo, se convierten en listas y se agregan como columna nueva\n",
    "df.drop(columns=['cast'],inplace=True)   #Se elimina la columna cast para dejar solo la que los tiene como listas\n",
    "df.rename(columns={'cast_1':'cast'}, inplace=True) #Se renombra la columna cast_1 que fue creada para introducir los actores\n",
    "\n",
    "#Se convierten los géneros en listas dentro del dataframe al igual que con los actores\n",
    "df['listed_in_1'] = df[\"listed_in\"].str.split(\",\")\n",
    "df.drop(columns=['listed_in'],inplace=True)\n",
    "df.rename(columns={'listed_in_1':'listed_in'}, inplace=True)\n",
    "\n",
    "#Creación de DataFrame para los actores\n",
    "dic_actores = {'actor':[],\n",
    "                'year':[],\n",
    "                'plataform':[]} #Se crea un diccionario para luego ser convertido en dataframe\n",
    "for index, actors in enumerate(df['cast']):\n",
    "    for actor in actors:\n",
    "        if len(actor)>3:\n",
    "            dic_actores['actor'].append(actor) #Se agrega el actor al diccionario\n",
    "            dic_actores['year'].append(df['release_year'][index]) #Se agrega el año correspondiente actor al diccionario\n",
    "            dic_actores['plataform'].append(df['plataform'][index]) #Se agrega la plataforma correspondiente al actor al diccionario\n",
    "df_actors = pd.DataFrame(dic_actores)\n",
    "#df_actors=df_actors.drop_duplicates().reset_index()\n",
    "\n",
    "\n",
    "\n",
    "#Creación de DataFrame para los generos\n",
    "dic_genero = {'genero':[],\n",
    "                'plataforma':[]} #Se crea un diccionario para luego ser convertido en dataframe\n",
    "for index, generos in enumerate(df['listed_in']):\n",
    "    for genero in generos:\n",
    "        dic_genero['genero'].append(genero) #Se agrega el genero al diccionario\n",
    "        dic_genero['plataforma'].append(df['plataform'][index])\n",
    "df_genero = pd.DataFrame(dic_genero)\n",
    "#df_genero = df_genero.drop_duplicates(ignore_index=True) #se borran los duplicados del data frame.\n",
    "\n",
    "df_genero.to_csv('generos.csv')\n",
    "df_actors.to_csv('actors.csv')\n",
    "df.to_csv('dataframe.csv')"
   ]
  },
  {
   "cell_type": "code",
   "execution_count": 5,
   "metadata": {},
   "outputs": [],
   "source": [
    "#Es posible usar la media para los datos NAN, porque:\n",
    "mean_lists_movies = df[df['type'] == 'movie'][['plataform','release_year','duration']]\n",
    "mean_lists_movies = mean_lists_movies.groupby(['plataform','release_year'])['duration'].max()\n",
    "mean_lists_series= df.loc[df['type'] == 'tv show'][['plataform','release_year','duration']]\n",
    "mean_lists_series = mean_lists_series.groupby(['plataform','release_year'])['duration'].max()"
   ]
  },
  {
   "cell_type": "code",
   "execution_count": 6,
   "metadata": {},
   "outputs": [
    {
     "data": {
      "text/plain": [
       "{'Máximo de amazon en 2000 es': 177}"
      ]
     },
     "execution_count": 6,
     "metadata": {},
     "output_type": "execute_result"
    }
   ],
   "source": [
    "def get_max_duration(año, plataforma, tipo_film):\n",
    "    message = f\"Máximo de {plataforma} en {año} es\"\n",
    "    return {message:df[(df['release_year']==año)&(df['plataform']==plataforma)&(df['type (min-seasons)'] == tipo_film)]['duration'].max()}\n",
    "get_max_duration(2000,'amazon','min')"
   ]
  },
  {
   "cell_type": "code",
   "execution_count": 24,
   "metadata": {},
   "outputs": [
    {
     "data": {
      "text/plain": [
       "{'Cantidad de películas en amazon es': 7814,\n",
       " 'Cantidad de series en amazon es': 1854}"
      ]
     },
     "execution_count": 24,
     "metadata": {},
     "output_type": "execute_result"
    }
   ],
   "source": [
    "def get_count_plataform(plataforma):   \n",
    "    return{f\"Cantidad de películas en {plataforma} es\":df[(df['plataform']==plataforma)&(df['type']=='movie')]['type'].count(),\n",
    "    f\"Cantidad de series en {plataforma} es\":df[(df['plataform']==plataforma)&(df['type']=='tv show')]['type'].count()}\n",
    "get_count_plataform('amazon')"
   ]
  },
  {
   "cell_type": "code",
   "execution_count": 20,
   "metadata": {},
   "outputs": [
    {
     "data": {
      "text/plain": [
       "{'netflix': 1210}"
      ]
     },
     "execution_count": 20,
     "metadata": {},
     "output_type": "execute_result"
    }
   ],
   "source": [
    "def get_listedin(genero):\n",
    "    return {(df_genero[(df_genero[\"genero\"]==genero)][\"plataforma\"].value_counts().idxmax()):\n",
    "    (df_genero[(df_genero[\"genero\"]==genero)][\"plataforma\"].value_counts().max())}\n",
    "\n",
    "get_listedin('comedies')\n",
    "\n",
    "#df_genero.head()"
   ]
  },
  {
   "cell_type": "code",
   "execution_count": 260,
   "metadata": {},
   "outputs": [
    {
     "data": {
      "text/plain": [
       "{' michael madsen': 7}"
      ]
     },
     "execution_count": 260,
     "metadata": {},
     "output_type": "execute_result"
    }
   ],
   "source": [
    "def get_actor(plataforma, año):\n",
    "    data = df_actors[(df_actors['year']==año)&(df_actors['plataform']==plataforma)]['actor']\n",
    "    # return {data.value_counts().max()}\n",
    "    if data.value_counts().index[0] == 'sin dato':\n",
    "        return {data.value_counts().index[1]:data.value_counts()[1]}\n",
    "    elif data.value_counts().index[0] != 'sin dato':\n",
    "        return {data.value_counts().index[0]:data.value_counts()[0]}\n",
    "get_actor('amazon',2020)"
   ]
  }
 ],
 "metadata": {
  "kernelspec": {
   "display_name": "Python 3.9.15 ('base')",
   "language": "python",
   "name": "python3"
  },
  "language_info": {
   "codemirror_mode": {
    "name": "ipython",
    "version": 3
   },
   "file_extension": ".py",
   "mimetype": "text/x-python",
   "name": "python",
   "nbconvert_exporter": "python",
   "pygments_lexer": "ipython3",
   "version": "3.9.15 (main, Nov 24 2022, 14:39:17) [MSC v.1916 64 bit (AMD64)]"
  },
  "orig_nbformat": 4,
  "vscode": {
   "interpreter": {
    "hash": "a077222d77dfe082b8f1dd562ad70e458ac2ab76993a0b248ab0476e32e9e8dd"
   }
  }
 },
 "nbformat": 4,
 "nbformat_minor": 2
}
